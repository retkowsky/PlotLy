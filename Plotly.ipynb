{
  "cells": [
    {
      "metadata": {},
      "cell_type": "markdown",
      "source": "# Représentations graphiques avec Plot.ly\n\nhttps://plot.ly/\n\n    "
    },
    {
      "metadata": {
        "trusted": true
      },
      "cell_type": "code",
      "source": "!pip install plotly",
      "execution_count": 1,
      "outputs": [
        {
          "output_type": "stream",
          "text": "Requirement already satisfied: plotly in /home/nbuser/anaconda3_501/lib/python3.6/site-packages (3.6.1)\nRequirement already satisfied: pytz in /home/nbuser/anaconda3_501/lib/python3.6/site-packages (from plotly) (2018.7)\nRequirement already satisfied: requests in /home/nbuser/anaconda3_501/lib/python3.6/site-packages (from plotly) (2.21.0)\nRequirement already satisfied: nbformat>=4.2 in /home/nbuser/anaconda3_501/lib/python3.6/site-packages (from plotly) (4.4.0)\nRequirement already satisfied: six in /home/nbuser/anaconda3_501/lib/python3.6/site-packages (from plotly) (1.11.0)\nRequirement already satisfied: retrying>=1.3.3 in /home/nbuser/anaconda3_501/lib/python3.6/site-packages (from plotly) (1.3.3)\nRequirement already satisfied: decorator>=4.0.6 in /home/nbuser/anaconda3_501/lib/python3.6/site-packages (from plotly) (4.3.0)\nRequirement already satisfied: certifi>=2017.4.17 in /home/nbuser/anaconda3_501/lib/python3.6/site-packages (from requests->plotly) (2018.10.15)\nRequirement already satisfied: chardet<3.1.0,>=3.0.2 in /home/nbuser/anaconda3_501/lib/python3.6/site-packages (from requests->plotly) (3.0.4)\nRequirement already satisfied: urllib3<1.25,>=1.21.1 in /home/nbuser/anaconda3_501/lib/python3.6/site-packages (from requests->plotly) (1.23)\nRequirement already satisfied: idna<2.9,>=2.5 in /home/nbuser/anaconda3_501/lib/python3.6/site-packages (from requests->plotly) (2.7)\nRequirement already satisfied: traitlets>=4.1 in /home/nbuser/anaconda3_501/lib/python3.6/site-packages (from nbformat>=4.2->plotly) (4.3.2)\nRequirement already satisfied: ipython-genutils in /home/nbuser/anaconda3_501/lib/python3.6/site-packages (from nbformat>=4.2->plotly) (0.2.0)\nRequirement already satisfied: jupyter-core in /home/nbuser/anaconda3_501/lib/python3.6/site-packages (from nbformat>=4.2->plotly) (4.4.0)\nRequirement already satisfied: jsonschema!=2.5.0,>=2.4 in /home/nbuser/anaconda3_501/lib/python3.6/site-packages (from nbformat>=4.2->plotly) (2.6.0)\n",
          "name": "stdout"
        }
      ]
    },
    {
      "metadata": {
        "trusted": true
      },
      "cell_type": "code",
      "source": "import plotly.plotly as plotly",
      "execution_count": 2,
      "outputs": []
    },
    {
      "metadata": {
        "trusted": true
      },
      "cell_type": "code",
      "source": "plotly.sign_in(\"user\", \"clef\")",
      "execution_count": 3,
      "outputs": []
    },
    {
      "metadata": {
        "trusted": true
      },
      "cell_type": "code",
      "source": "x1 = [1,2,3,5,6]\ny1 = [1,4.5,7,24,38]",
      "execution_count": 4,
      "outputs": []
    },
    {
      "metadata": {
        "trusted": true
      },
      "cell_type": "code",
      "source": "values = dict(x=x1, y=y1)",
      "execution_count": 5,
      "outputs": []
    },
    {
      "metadata": {
        "trusted": true
      },
      "cell_type": "code",
      "source": "data = [values]",
      "execution_count": 6,
      "outputs": []
    },
    {
      "metadata": {
        "trusted": true
      },
      "cell_type": "code",
      "source": "plotly.plot(data, filename='s0_first_plot')",
      "execution_count": 7,
      "outputs": [
        {
          "output_type": "stream",
          "text": "High five! You successfully sent some data to your account on plotly. View your plot in your browser at https://plot.ly/~serger92/0 or inside your plot.ly account where it is named 's0_first_plot'\n",
          "name": "stdout"
        },
        {
          "output_type": "execute_result",
          "execution_count": 7,
          "data": {
            "text/plain": "'https://plot.ly/~serger92/0'"
          },
          "metadata": {}
        }
      ]
    },
    {
      "metadata": {
        "trusted": true
      },
      "cell_type": "code",
      "source": "plotly.iplot(data, filename='s0_first_plot', height=400, width=600)",
      "execution_count": 8,
      "outputs": [
        {
          "output_type": "stream",
          "text": "High five! You successfully sent some data to your account on plotly. View your plot in your browser at https://plot.ly/~serger92/0 or inside your plot.ly account where it is named 's0_first_plot'\n",
          "name": "stdout"
        },
        {
          "output_type": "stream",
          "text": "/home/nbuser/anaconda3_501/lib/python3.6/site-packages/IPython/core/display.py:689: UserWarning:\n\nConsider using IPython.display.IFrame instead\n\n",
          "name": "stderr"
        },
        {
          "output_type": "execute_result",
          "execution_count": 8,
          "data": {
            "text/html": "<iframe id=\"igraph\" scrolling=\"no\" style=\"border:none;\" seamless=\"seamless\" src=\"https://plot.ly/~serger92/0.embed\" height=\"525px\" width=\"100%\"></iframe>",
            "text/plain": "<plotly.tools.PlotlyDisplay object>"
          },
          "metadata": {}
        }
      ]
    },
    {
      "metadata": {
        "trusted": true
      },
      "cell_type": "code",
      "source": "",
      "execution_count": null,
      "outputs": []
    },
    {
      "metadata": {
        "trusted": false
      },
      "cell_type": "code",
      "source": "",
      "execution_count": null,
      "outputs": []
    }
  ],
  "metadata": {
    "kernelspec": {
      "name": "python36",
      "display_name": "Python 3.6",
      "language": "python"
    },
    "language_info": {
      "mimetype": "text/x-python",
      "nbconvert_exporter": "python",
      "name": "python",
      "pygments_lexer": "ipython3",
      "version": "3.6.6",
      "file_extension": ".py",
      "codemirror_mode": {
        "version": 3,
        "name": "ipython"
      }
    }
  },
  "nbformat": 4,
  "nbformat_minor": 1
}